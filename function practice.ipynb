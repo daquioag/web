{
  "cells": [
    {
      "metadata": {
        "trusted": true
      },
      "cell_type": "code",
      "source": "# FACTORIAL of a number\n\ndef factorial(n):\n    if n ==0:\n        return 1\n    else:\n        return n*factorial(n-1)\nn = int(input())\nprint(factorial(n))",
      "execution_count": 16,
      "outputs": [
        {
          "output_type": "error",
          "ename": "KeyboardInterrupt",
          "evalue": "",
          "traceback": [
            "\u001b[0;31m---------------------------------------------------------------------------\u001b[0m",
            "\u001b[0;31mKeyboardInterrupt\u001b[0m                         Traceback (most recent call last)",
            "\u001b[0;32m~/anaconda3_501/lib/python3.6/site-packages/ipykernel/kernelbase.py\u001b[0m in \u001b[0;36m_input_request\u001b[0;34m(self, prompt, ident, parent, password)\u001b[0m\n\u001b[1;32m    883\u001b[0m             \u001b[0;32mtry\u001b[0m\u001b[0;34m:\u001b[0m\u001b[0;34m\u001b[0m\u001b[0m\n\u001b[0;32m--> 884\u001b[0;31m                 \u001b[0mident\u001b[0m\u001b[0;34m,\u001b[0m \u001b[0mreply\u001b[0m \u001b[0;34m=\u001b[0m \u001b[0mself\u001b[0m\u001b[0;34m.\u001b[0m\u001b[0msession\u001b[0m\u001b[0;34m.\u001b[0m\u001b[0mrecv\u001b[0m\u001b[0;34m(\u001b[0m\u001b[0mself\u001b[0m\u001b[0;34m.\u001b[0m\u001b[0mstdin_socket\u001b[0m\u001b[0;34m,\u001b[0m \u001b[0;36m0\u001b[0m\u001b[0;34m)\u001b[0m\u001b[0;34m\u001b[0m\u001b[0m\n\u001b[0m\u001b[1;32m    885\u001b[0m             \u001b[0;32mexcept\u001b[0m \u001b[0mException\u001b[0m\u001b[0;34m:\u001b[0m\u001b[0;34m\u001b[0m\u001b[0m\n",
            "\u001b[0;32m~/anaconda3_501/lib/python3.6/site-packages/jupyter_client/session.py\u001b[0m in \u001b[0;36mrecv\u001b[0;34m(self, socket, mode, content, copy)\u001b[0m\n\u001b[1;32m    802\u001b[0m         \u001b[0;32mtry\u001b[0m\u001b[0;34m:\u001b[0m\u001b[0;34m\u001b[0m\u001b[0m\n\u001b[0;32m--> 803\u001b[0;31m             \u001b[0mmsg_list\u001b[0m \u001b[0;34m=\u001b[0m \u001b[0msocket\u001b[0m\u001b[0;34m.\u001b[0m\u001b[0mrecv_multipart\u001b[0m\u001b[0;34m(\u001b[0m\u001b[0mmode\u001b[0m\u001b[0;34m,\u001b[0m \u001b[0mcopy\u001b[0m\u001b[0;34m=\u001b[0m\u001b[0mcopy\u001b[0m\u001b[0;34m)\u001b[0m\u001b[0;34m\u001b[0m\u001b[0m\n\u001b[0m\u001b[1;32m    804\u001b[0m         \u001b[0;32mexcept\u001b[0m \u001b[0mzmq\u001b[0m\u001b[0;34m.\u001b[0m\u001b[0mZMQError\u001b[0m \u001b[0;32mas\u001b[0m \u001b[0me\u001b[0m\u001b[0;34m:\u001b[0m\u001b[0;34m\u001b[0m\u001b[0m\n",
            "\u001b[0;32m~/anaconda3_501/lib/python3.6/site-packages/zmq/sugar/socket.py\u001b[0m in \u001b[0;36mrecv_multipart\u001b[0;34m(self, flags, copy, track)\u001b[0m\n\u001b[1;32m    466\u001b[0m         \"\"\"\n\u001b[0;32m--> 467\u001b[0;31m         \u001b[0mparts\u001b[0m \u001b[0;34m=\u001b[0m \u001b[0;34m[\u001b[0m\u001b[0mself\u001b[0m\u001b[0;34m.\u001b[0m\u001b[0mrecv\u001b[0m\u001b[0;34m(\u001b[0m\u001b[0mflags\u001b[0m\u001b[0;34m,\u001b[0m \u001b[0mcopy\u001b[0m\u001b[0;34m=\u001b[0m\u001b[0mcopy\u001b[0m\u001b[0;34m,\u001b[0m \u001b[0mtrack\u001b[0m\u001b[0;34m=\u001b[0m\u001b[0mtrack\u001b[0m\u001b[0;34m)\u001b[0m\u001b[0;34m]\u001b[0m\u001b[0;34m\u001b[0m\u001b[0m\n\u001b[0m\u001b[1;32m    468\u001b[0m         \u001b[0;31m# have first part already, only loop while more to receive\u001b[0m\u001b[0;34m\u001b[0m\u001b[0;34m\u001b[0m\u001b[0m\n",
            "\u001b[0;32mzmq/backend/cython/socket.pyx\u001b[0m in \u001b[0;36mzmq.backend.cython.socket.Socket.recv\u001b[0;34m()\u001b[0m\n",
            "\u001b[0;32mzmq/backend/cython/socket.pyx\u001b[0m in \u001b[0;36mzmq.backend.cython.socket.Socket.recv\u001b[0;34m()\u001b[0m\n",
            "\u001b[0;32mzmq/backend/cython/socket.pyx\u001b[0m in \u001b[0;36mzmq.backend.cython.socket._recv_copy\u001b[0;34m()\u001b[0m\n",
            "\u001b[0;32m~/anaconda3_501/lib/python3.6/site-packages/zmq/backend/cython/checkrc.pxd\u001b[0m in \u001b[0;36mzmq.backend.cython.checkrc._check_rc\u001b[0;34m()\u001b[0m\n",
            "\u001b[0;31mKeyboardInterrupt\u001b[0m: ",
            "\nDuring handling of the above exception, another exception occurred:\n",
            "\u001b[0;31mKeyboardInterrupt\u001b[0m                         Traceback (most recent call last)",
            "\u001b[0;32m<ipython-input-16-33f2408ebf7b>\u001b[0m in \u001b[0;36m<module>\u001b[0;34m\u001b[0m\n\u001b[1;32m      6\u001b[0m     \u001b[0;32melse\u001b[0m\u001b[0;34m:\u001b[0m\u001b[0;34m\u001b[0m\u001b[0m\n\u001b[1;32m      7\u001b[0m         \u001b[0;32mreturn\u001b[0m \u001b[0mn\u001b[0m\u001b[0;34m*\u001b[0m\u001b[0mfactorial\u001b[0m\u001b[0;34m(\u001b[0m\u001b[0mn\u001b[0m\u001b[0;34m-\u001b[0m\u001b[0;36m1\u001b[0m\u001b[0;34m)\u001b[0m\u001b[0;34m\u001b[0m\u001b[0m\n\u001b[0;32m----> 8\u001b[0;31m \u001b[0mn\u001b[0m \u001b[0;34m=\u001b[0m \u001b[0mint\u001b[0m\u001b[0;34m(\u001b[0m\u001b[0minput\u001b[0m\u001b[0;34m(\u001b[0m\u001b[0;34m)\u001b[0m\u001b[0;34m)\u001b[0m\u001b[0;34m\u001b[0m\u001b[0m\n\u001b[0m\u001b[1;32m      9\u001b[0m \u001b[0mprint\u001b[0m\u001b[0;34m(\u001b[0m\u001b[0mfactorial\u001b[0m\u001b[0;34m(\u001b[0m\u001b[0mn\u001b[0m\u001b[0;34m)\u001b[0m\u001b[0;34m)\u001b[0m\u001b[0;34m\u001b[0m\u001b[0m\n",
            "\u001b[0;32m~/anaconda3_501/lib/python3.6/site-packages/ipykernel/kernelbase.py\u001b[0m in \u001b[0;36mraw_input\u001b[0;34m(self, prompt)\u001b[0m\n\u001b[1;32m    857\u001b[0m             \u001b[0mself\u001b[0m\u001b[0;34m.\u001b[0m\u001b[0m_parent_ident\u001b[0m\u001b[0;34m,\u001b[0m\u001b[0;34m\u001b[0m\u001b[0m\n\u001b[1;32m    858\u001b[0m             \u001b[0mself\u001b[0m\u001b[0;34m.\u001b[0m\u001b[0m_parent_header\u001b[0m\u001b[0;34m,\u001b[0m\u001b[0;34m\u001b[0m\u001b[0m\n\u001b[0;32m--> 859\u001b[0;31m             \u001b[0mpassword\u001b[0m\u001b[0;34m=\u001b[0m\u001b[0;32mFalse\u001b[0m\u001b[0;34m,\u001b[0m\u001b[0;34m\u001b[0m\u001b[0m\n\u001b[0m\u001b[1;32m    860\u001b[0m         )\n\u001b[1;32m    861\u001b[0m \u001b[0;34m\u001b[0m\u001b[0m\n",
            "\u001b[0;32m~/anaconda3_501/lib/python3.6/site-packages/ipykernel/kernelbase.py\u001b[0m in \u001b[0;36m_input_request\u001b[0;34m(self, prompt, ident, parent, password)\u001b[0m\n\u001b[1;32m    887\u001b[0m             \u001b[0;32mexcept\u001b[0m \u001b[0mKeyboardInterrupt\u001b[0m\u001b[0;34m:\u001b[0m\u001b[0;34m\u001b[0m\u001b[0m\n\u001b[1;32m    888\u001b[0m                 \u001b[0;31m# re-raise KeyboardInterrupt, to truncate traceback\u001b[0m\u001b[0;34m\u001b[0m\u001b[0;34m\u001b[0m\u001b[0m\n\u001b[0;32m--> 889\u001b[0;31m                 \u001b[0;32mraise\u001b[0m \u001b[0mKeyboardInterrupt\u001b[0m\u001b[0;34m\u001b[0m\u001b[0m\n\u001b[0m\u001b[1;32m    890\u001b[0m             \u001b[0;32melse\u001b[0m\u001b[0;34m:\u001b[0m\u001b[0;34m\u001b[0m\u001b[0m\n\u001b[1;32m    891\u001b[0m                 \u001b[0;32mbreak\u001b[0m\u001b[0;34m\u001b[0m\u001b[0m\n",
            "\u001b[0;31mKeyboardInterrupt\u001b[0m: "
          ]
        },
        {
          "output_type": "stream",
          "name": "stdout",
          "text": "6\n"
        }
      ]
    },
    {
      "metadata": {
        "trusted": true
      },
      "cell_type": "code",
      "source": "#Write a Python function to check whether a number is in a given range.\ndef test_range(n):\n        if n in range(3,9):\n            print( \"the number: \"+ str(n) + \" is in the range\")\n        else:\n            print(\" the bumber is outside the given range\")\ntest_range(5)\n",
      "execution_count": 6,
      "outputs": [
        {
          "output_type": "stream",
          "text": "the number: 5 is in the range\n",
          "name": "stdout"
        }
      ]
    },
    {
      "metadata": {
        "trusted": true
      },
      "cell_type": "code",
      "source": "def string(s):\n    U = 0\n    L = 0\n    for c in s:\n        if c.isupper():\n            U+=1\n        elif c.islower():\n            L+=1\n        \n    print(U, L)\n\nprint(string.__code__.co_nlocals)\n    \nprint(string(\"ABCabgc\"))",
      "execution_count": 23,
      "outputs": [
        {
          "output_type": "stream",
          "text": "2\nNone\n",
          "name": "stdout"
        }
      ]
    },
    {
      "metadata": {
        "trusted": true
      },
      "cell_type": "code",
      "source": "# Write a Python program to detect the number of local variables declared in a function.\n\ndef ABC(asd):\n    a=1\n    b=2\n    c = 3\n    d = \"web\"\n    print(\"asdasdasd\")\nprint(ABC.__code__.co_nlocals)",
      "execution_count": 25,
      "outputs": [
        {
          "output_type": "stream",
          "text": "5\n",
          "name": "stdout"
        }
      ]
    },
    {
      "metadata": {
        "trusted": true
      },
      "cell_type": "code",
      "source": "#Write a Python program to create an Enum object and display a member name and value\n\nfrom enum import Enum\nclass Country(Enum):\n    Afgah = 93\n    Alban = 355\n    Algeria = 213\n\nprint('Member name: ' + Country.Alban.name)\nprint('Member value:' + str(Country.Alban.value))\n\nfor data in Country:\n    print(\"{:8}={}\".format(data.name, data.value))\n    \nprint(\"countrt name ordered by country code\")\n\nimport enum\nclass Country(enum.IntEnum):\n    Afghanistan = 93\n    Albania = 355\n    Algeria = 213\n    Andorra = 376\n    Angola = 244\n    Antarctica = 672\nprint('Country Name ordered by Country Code:')\nprint('\\n'.join('  ' + c.name for c in sorted(Country)))",
      "execution_count": 15,
      "outputs": [
        {
          "output_type": "stream",
          "text": "Member name: Alban\nMember value:355\nAfgah   =93\nAlban   =355\nAlgeria =213\ncountrt name ordered by country code\nCountry Name ordered by Country Code:\n  Afghanistan\n  Algeria\n  Angola\n  Albania\n  Andorra\n  Antarctica\n",
          "name": "stdout"
        }
      ]
    },
    {
      "metadata": {
        "trusted": true
      },
      "cell_type": "code",
      "source": "from enum import(IntEnum)\nclass Country(IntEnum):\n    Afghanistan = 93\n    ALbania = 355\n    Algeria =213\n    Andorra = 376\n    Anogla = 244\n    Antarcica = 62\nCountry_code_list = list(map(int, Country))\nprint(Country_code_list)",
      "execution_count": 7,
      "outputs": [
        {
          "output_type": "stream",
          "text": "[93, 355, 213, 376, 244, 62]\n",
          "name": "stdout"
        }
      ]
    },
    {
      "metadata": {
        "trusted": true
      },
      "cell_type": "code",
      "source": "words = [\n   'red', 'green', 'black', 'pink', 'black', 'white', 'black', 'eyes',\n   'white', 'black', 'orange', 'pink', 'pink', 'red', 'red', 'white', 'orange',\n   'white', \"black\", 'pink', 'green', 'green', 'pink', 'green', 'pink',\n   'white', 'orange', \"orange\", 'red'\n]\n\nfrom collections import Counter\ncommon = Counter(words)\nprint(Counter(words).most_common())\nprint(top_four)",
      "execution_count": 14,
      "outputs": [
        {
          "output_type": "stream",
          "text": "[('pink', 6), ('black', 5), ('white', 5), ('red', 4), ('green', 4), ('orange', 4), ('eyes', 1)]\n[('pink', 6), ('black', 5), ('white', 5), ('red', 4), ('green', 4), ('orange', 4), ('eyes', 1)]\n",
          "name": "stdout"
        }
      ]
    },
    {
      "metadata": {
        "trusted": true
      },
      "cell_type": "code",
      "source": "import sys\n\nnames = [\"EMMA\", \"RODRIGO\", \"BRIAN\", \"DAVID\"]\n\nif \"EMMA\" in names:\n    print(\"Found\")\n    sys.exit(0)\nprint(\"Not found\")\nsys.exit(1)",
      "execution_count": 26,
      "outputs": [
        {
          "output_type": "stream",
          "text": "Found\n",
          "name": "stdout"
        },
        {
          "output_type": "error",
          "ename": "SystemExit",
          "evalue": "0",
          "traceback": [
            "An exception has occurred, use %tb to see the full traceback.\n",
            "\u001b[0;31mSystemExit\u001b[0m\u001b[0;31m:\u001b[0m 0\n"
          ]
        },
        {
          "output_type": "stream",
          "text": "/home/nbuser/anaconda3_501/lib/python3.6/site-packages/IPython/core/interactiveshell.py:3275: UserWarning: To exit: use 'exit', 'quit', or Ctrl-D.\n  warn(\"To exit: use 'exit', 'quit', or Ctrl-D.\", stacklevel=1)\n",
          "name": "stderr"
        }
      ]
    },
    {
      "metadata": {
        "trusted": true
      },
      "cell_type": "code",
      "source": "hash_table = [[] for _ in range(10)]\nprint (hash_table)\n\ndef insert(hash_table, key, value):\n    hash_key = hash(key) % len(hash_table)\n    key_exists = False\n    bucket = hash_table[hash_key]    \n    for i, kv in enumerate(bucket):\n        k, v = kv\n        if key == k:\n            key_exists = True \n            break\n    if key_exists:\n        bucket[i] = ((key, value))\n    else:\n        bucket.append((key, value))\n \n \ninsert(hash_table, 10, 'Nepal')\ninsert(hash_table, 25, 'USA')\ninsert(hash_table, 20, 'India')\nprint (hash_table)",
      "execution_count": 15,
      "outputs": [
        {
          "output_type": "stream",
          "text": "[[], [], [], [], [], [], [], [], [], []]\n[[(10, 'Nepal'), (20, 'India')], [], [], [], [], [(25, 'USA')], [], [], [], []]\n",
          "name": "stdout"
        }
      ]
    },
    {
      "metadata": {
        "trusted": true
      },
      "cell_type": "code",
      "source": "llist = [1,2,3,4,5,6,7,8,9,10]\ndef even(llist):\n    enum = []\n    for numbers in llist:\n        if numbers%2 == 0:\n            enum.append(numbers)\n    print(enum)\neven(llist)\n",
      "execution_count": 3,
      "outputs": [
        {
          "output_type": "stream",
          "text": "[2, 4, 6, 8, 10]\n",
          "name": "stdout"
        }
      ]
    },
    {
      "metadata": {
        "trusted": true
      },
      "cell_type": "code",
      "source": "def perf(n):\n    sum = 0\n    for x in range(1,n):\n        if n%x ==0:\n            sum+=x\n    print(sum)\n    return sum ==n\n\nprint(perf(28))\n    ",
      "execution_count": 7,
      "outputs": [
        {
          "output_type": "stream",
          "text": "28\nTrue\n",
          "name": "stdout"
        }
      ]
    },
    {
      "metadata": {
        "trusted": true
      },
      "cell_type": "code",
      "source": "def palin(string):\n    left = 0\n    right = len(string) -1\n    while right >= left:\n        if  string[left] != string[right]:\n            return False\n        left +=1\n        right -= 1\n        return True\n    \n    print(right)\nstring = \"racecar\"\nprint(palin(string))",
      "execution_count": 15,
      "outputs": [
        {
          "output_type": "stream",
          "text": "True\n",
          "name": "stdout"
        }
      ]
    },
    {
      "metadata": {
        "trusted": true
      },
      "cell_type": "code",
      "source": "from collections import Counter\ndef compare_lists(x,y):\n    return Counter(x)== Counter(y)\nn1 = [1,2,3,5]\nn2 = [1,2,3,5]\nprint(compare_lists(n1,n2))",
      "execution_count": 18,
      "outputs": [
        {
          "output_type": "stream",
          "text": "True\n",
          "name": "stdout"
        }
      ]
    },
    {
      "metadata": {
        "trusted": true
      },
      "cell_type": "code",
      "source": "\nmy_array = [10, 20, 30, 40, 50]\nfor i in my_array:\n    print(i)\n    ",
      "execution_count": 23,
      "outputs": [
        {
          "output_type": "stream",
          "text": "10\n20\n30\n40\n50\n",
          "name": "stdout"
        }
      ]
    },
    {
      "metadata": {
        "trusted": true
      },
      "cell_type": "code",
      "source": "",
      "execution_count": null,
      "outputs": []
    }
  ],
  "metadata": {
    "kernelspec": {
      "name": "python36",
      "display_name": "Python 3.6",
      "language": "python"
    },
    "language_info": {
      "mimetype": "text/x-python",
      "nbconvert_exporter": "python",
      "name": "python",
      "pygments_lexer": "ipython3",
      "version": "3.6.6",
      "file_extension": ".py",
      "codemirror_mode": {
        "version": 3,
        "name": "ipython"
      }
    }
  },
  "nbformat": 4,
  "nbformat_minor": 2
}