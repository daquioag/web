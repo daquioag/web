{
  "cells": [
    {
      "metadata": {
        "trusted": true
      },
      "cell_type": "code",
      "source": "class Node:\n    def __init__(self, data = None):\n        self.data = data\n        self.next = None\n        \n    def __str__(self):\n        return str(self.data)\n    \nclass Linked:\n    \n    def __init__(self):\n        self.head = None\n        self.tail = None\n    \n    \n    def append_val(self, x):\n        ''' add x to the end of the list '''\n        if not isinstance(x, Node ):\n            x =Node(x)\n            \n        if self.head == None:\n            self.head = x\n        else:\n            self.tail.next = x\n        self.tail = x\n    \n    def __str__(self):\n        #[5->4->10->1]\n        to_print = \"\"\n        \n        curre = self.head\n        while curre is not None:\n            to_print += str(curre.data) + \"->\"\n            curre = curre.next\n        if to_print:\n            return \"[\" + to_print[:-2] + \"]\"\n        return\"[]\"\n\n    \n    def add_to_Start(self, x):\n        '''add x to the left of the list making it the head '''\n        pass\n    \nnode1= Node(1)\nnode2 = Node(2)\nnode3 = Node(3)\nnode4 = Node(4)\nnode5 = Node(5)\n\n\nmy_list = Linked()\n\nprint(my_list)\nmy_list.append_val(node1)\nmy_list.append_val(node2)\nmy_list.append_val(node3)\nmy_list.append_val(node4)\nmy_list.append_val(node5)\n\nprint(my_list)",
      "execution_count": 4,
      "outputs": [
        {
          "output_type": "stream",
          "text": "[]\n[1->2->3->4->5]\n",
          "name": "stdout"
        }
      ]
    },
    {
      "metadata": {
        "trusted": true
      },
      "cell_type": "code",
      "source": "def reverse_list_recur(self, current, previous):\n        '''reverse the sequence of node pointers in the linked list'''\n        # Given [1->2->3->4->5] reverse pointers [1<-2<-3<-4<-5]\n        # Turning list to [5->4->3->2->1]\n        if self.head == None:\n            return\n        elif current.next == None:\n            self.tail = self.head\n            current.next = previous\n            self.head = current\n        else:\n            next = current.next\n            current.next = previous\n            self.reverse_list_recur(next, current)\n\nmy_list = Linked()\nmy_list.append_val(1)\nmy_list.append_val(2)\nmy_list.append_val(3)\nmy_list.append_val(4)\nmy_list.append_val(5)\nprint(my_list)\nmy_list.reverse_list_recur(my_list.head, None)\nprint(my_list)",
      "execution_count": 5,
      "outputs": [
        {
          "output_type": "stream",
          "text": "[1->2->3->4->5]\n",
          "name": "stdout"
        },
        {
          "output_type": "error",
          "ename": "AttributeError",
          "evalue": "'Linked' object has no attribute 'reverse_list_recur'",
          "traceback": [
            "\u001b[0;31m---------------------------------------------------------------------------\u001b[0m",
            "\u001b[0;31mAttributeError\u001b[0m                            Traceback (most recent call last)",
            "\u001b[0;32m<ipython-input-5-7e56ea2a8550>\u001b[0m in \u001b[0;36m<module>\u001b[0;34m\u001b[0m\n\u001b[1;32m     21\u001b[0m \u001b[0mmy_list\u001b[0m\u001b[0;34m.\u001b[0m\u001b[0mappend_val\u001b[0m\u001b[0;34m(\u001b[0m\u001b[0;36m5\u001b[0m\u001b[0;34m)\u001b[0m\u001b[0;34m\u001b[0m\u001b[0m\n\u001b[1;32m     22\u001b[0m \u001b[0mprint\u001b[0m\u001b[0;34m(\u001b[0m\u001b[0mmy_list\u001b[0m\u001b[0;34m)\u001b[0m\u001b[0;34m\u001b[0m\u001b[0m\n\u001b[0;32m---> 23\u001b[0;31m \u001b[0mmy_list\u001b[0m\u001b[0;34m.\u001b[0m\u001b[0mreverse_list_recur\u001b[0m\u001b[0;34m(\u001b[0m\u001b[0mmy_list\u001b[0m\u001b[0;34m.\u001b[0m\u001b[0mhead\u001b[0m\u001b[0;34m,\u001b[0m \u001b[0;32mNone\u001b[0m\u001b[0;34m)\u001b[0m\u001b[0;34m\u001b[0m\u001b[0m\n\u001b[0m\u001b[1;32m     24\u001b[0m \u001b[0mprint\u001b[0m\u001b[0;34m(\u001b[0m\u001b[0mmy_list\u001b[0m\u001b[0;34m)\u001b[0m\u001b[0;34m\u001b[0m\u001b[0m\n",
            "\u001b[0;31mAttributeError\u001b[0m: 'Linked' object has no attribute 'reverse_list_recur'"
          ]
        }
      ]
    },
    {
      "metadata": {
        "trusted": true
      },
      "cell_type": "code",
      "source": "class Node:\n\n    def __init__(self, data=None):\n        self.data = data\n        self.next = None\n\n    def __str__(self):\n        return f\"{self.data}\"\n\nclass LinkedList:\n\n    def __init__(self):\n        self.head = None\n        self.tail = None\n\n    def append_val(self, x):\n        '''add x to the end of the list'''\n        if not isinstance(x, Node):\n            x = Node(x)\n        if self.head == None:\n            self.head = x\n        else:\n            self.tail.next = x\n        self.tail = x\n\n    def __str__(self):\n        # [5->4->10->1]\n        to_print = \"\"\n        curr = self.head\n        while curr is not None:\n            to_print += str(curr.data) + \"->\"\n            curr = curr.next\n        if to_print:\n            return \"[\" + to_print[:-2] + \"]\"\n        return \"[]\"\n\n    def add_to_start(self, x):\n        '''add x to the left of the list making it the head'''\n        pass\n\n    def search_val(self, x):\n        '''return indices where x was found'''\n        pass\n\n    def remove_val_by_index(self, x):\n        '''remove and return value at index x provided as parameter'''\n        pass\n\n    def length(self):\n        '''return the length of the list, rep'd by number of nodes'''\n        pass\n\n    def reverse_list_recur(self, current, previous):\n        '''reverse the sequence of node pointers in the linked list'''\n        # Given [1->2->3->4->5] reverse pointers [1<-2<-3<-4<-5]\n        # Turning list to [5->4->3->2->1]\n        if self.head == None:\n            return\n        elif current.next == None:\n            self.tail = self.head\n            current.next = previous\n            self.head = current\n        else:\n            next = current.next\n            current.next = previous\n            self.reverse_list_recur(next, current)\n\nmy_list = LinkedList()\nmy_list.append_val(1)\nmy_list.append_val(2)\nmy_list.append_val(3)\nmy_list.append_val(4)\nmy_list.append_val(5)\nprint(my_list)\nmy_list.reverse_list_recur(my_list.head, None)\nprint(my_list)",
      "execution_count": 6,
      "outputs": [
        {
          "output_type": "stream",
          "text": "[1->2->3->4->5]\n[5->4->3->2->1]\n",
          "name": "stdout"
        }
      ]
    },
    {
      "metadata": {
        "trusted": true
      },
      "cell_type": "code",
      "source": "",
      "execution_count": null,
      "outputs": []
    }
  ],
  "metadata": {
    "kernelspec": {
      "name": "python36",
      "display_name": "Python 3.6",
      "language": "python"
    },
    "language_info": {
      "mimetype": "text/x-python",
      "nbconvert_exporter": "python",
      "name": "python",
      "pygments_lexer": "ipython3",
      "version": "3.6.6",
      "file_extension": ".py",
      "codemirror_mode": {
        "version": 3,
        "name": "ipython"
      }
    }
  },
  "nbformat": 4,
  "nbformat_minor": 2
}