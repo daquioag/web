{
  "cells": [
    {
      "metadata": {
        "trusted": true
      },
      "cell_type": "code",
      "source": "#Write a Python program that prints each item and its corresponding type from the following list.\n#Sample List : \ndatalist = [1452, 11.23, 1+2j, True, 'w3resource', (0, -1), [5, 12], {\"class\":'V', \"section\":'A'}]\n\nfor items in datalist:\n    tyype = str(type(items))\n    print(str(items)+ \" has the type \" + tyype)\n    ",
      "execution_count": 4,
      "outputs": [
        {
          "output_type": "stream",
          "text": "1452 has the type <class 'int'>\n11.23 has the type <class 'float'>\n(1+2j) has the type <class 'complex'>\nTrue has the type <class 'bool'>\nw3resource has the type <class 'str'>\n(0, -1) has the type <class 'tuple'>\n[5, 12] has the type <class 'list'>\n{'class': 'V', 'section': 'A'} has the type <class 'dict'>\n",
          "name": "stdout"
        }
      ]
    },
    {
      "metadata": {
        "trusted": true
      },
      "cell_type": "code",
      "source": "#rite a Python program to get the Fibonacci series between 0 to 50.\n\nx,y=0,1\n\nwhile y<50:\n    print(y)\n    x,y = y,x+y\n    ",
      "execution_count": 5,
      "outputs": [
        {
          "output_type": "stream",
          "text": "1\n1\n2\n3\n5\n8\n13\n21\n34\n",
          "name": "stdout"
        }
      ]
    },
    {
      "metadata": {
        "trusted": true
      },
      "cell_type": "code",
      "source": "# Write a Python program which iterates the integers from 1 to 50. \n#For multiples of three print \"Fizz\" instead of the number and for the multiples of five print \"Buzz\". \n#For numbers which are multiples of both three and five print \"FizzBuzz\".\n\nfor numbers in range(51):\n    if numbers% 5 == 0 and numbers % 3== 0:\n        print(\"fizzbuszzz\")\n        continue\n    elif numbers % 5 == 0:\n        print(\"buzz\")\n        continue\n    elif numbers % 3== 0:\n        print(\"fizzz\")\n        continue\n    print(numbers)\n",
      "execution_count": 15,
      "outputs": [
        {
          "output_type": "stream",
          "text": "fizzbuszzz\n1\n2\nfizzz\n4\nbuzz\nfizzz\n7\n8\nfizzz\nbuzz\n11\nfizzz\n13\n14\nfizzbuszzz\n16\n17\nfizzz\n19\nbuzz\nfizzz\n22\n23\nfizzz\nbuzz\n26\nfizzz\n28\n29\nfizzbuszzz\n31\n32\nfizzz\n34\nbuzz\nfizzz\n37\n38\nfizzz\nbuzz\n41\nfizzz\n43\n44\nfizzbuszzz\n46\n47\nfizzz\n49\nbuzz\n",
          "name": "stdout"
        }
      ]
    },
    {
      "metadata": {
        "trusted": true
      },
      "cell_type": "code",
      "source": "#Write a Python program which takes two digits m (row) and n (column) as input and generates a two-dimensional array\n#The element value in the i-th row and j-th column of the array should be i*j.\n\nrownum = int(input())\ncolnum = int(input())\narr = [[0 for col in range(colnum)] for row in range(rownum)]\n\nfor row in range(rownum):\n    for col in range(colnum):\n        arr[row][col] = row*col\n        \nprint(arr\n     )",
      "execution_count": 21,
      "outputs": [
        {
          "output_type": "stream",
          "name": "stdout",
          "text": "9\n3\n[[0, 0, 0], [0, 1, 2], [0, 2, 4], [0, 3, 6], [0, 4, 8], [0, 5, 10], [0, 6, 12], [0, 7, 14], [0, 8, 16]]\n"
        }
      ]
    },
    {
      "metadata": {
        "trusted": true
      },
      "cell_type": "code",
      "source": "#Write a Python program that accepts a sequence of lines (blank line to terminate) \n#as input and prints the lines as output (all characters in lower case).\n\n\nsdf = []\nwhile True:\n    l = input()\n    if l:\n        sdf.append(l.upper())\n    else:\n        break;\n\nfor l in sdf:\n    print(l)",
      "execution_count": 27,
      "outputs": [
        {
          "output_type": "stream",
          "name": "stdout",
          "text": "asdasdsd\nsdfsdf\nSDFSDF\n\nASDASDSD\nSDFSDF\nSDFSDF\n"
        }
      ]
    },
    {
      "metadata": {
        "trusted": true
      },
      "cell_type": "code",
      "source": "#Write a Python program that accepts a string and calculate the number of digits and letters. Go to the editor\n#Sample Data : Python 3.2\ndata = \"python 3.2\"\ndigits = 0\nletters = 0\nfor items in data:\n    if items.isdigit():\n        digits=digits + 1\n    elif items.isalpha():\n        letters += 1\n    else:\n        pass\nprint(\"the numbers of letters are\", letters)\nprint(\"the numbers of digits are\", digits)",
      "execution_count": 30,
      "outputs": [
        {
          "output_type": "stream",
          "text": "the numbers of letters are 6\nthe numbers of digits are 2\n",
          "name": "stdout"
        }
      ]
    },
    {
      "metadata": {
        "trusted": true
      },
      "cell_type": "code",
      "source": "#Write a Python program to check the validity of password input by users. \nimport re\npassword = input(\"please create a password\")\nfor letters in password:\n    if (len(password)<6 or len(password) > 12):\n        break\n    elif not re.search(\"[a-z]\",password):\n        break\n        \n    elif not re.search(\"[A-Z]\",password):\n        break\n    elif not re.search(\"[0-9]\",password):\n        break\n    elif not re.search(\"[$#@]\",password):\n        break\n    elif re.search(\"\\s\",password):\n        break\n    else:\n        print(\"valid passsword\")\n        x = False\n        break\n\nif x:\n    print(\"not a valid password\")\n        \n    \n",
      "execution_count": 35,
      "outputs": [
        {
          "output_type": "stream",
          "name": "stdout",
          "text": "please create a passwordF4sdfsdfsdf#\nvalid passsword\n"
        }
      ]
    },
    {
      "metadata": {
        "trusted": true
      },
      "cell_type": "code",
      "source": "# how to make an A\nA =\"\";\nfor row in range(0,7):\n    for column in range(0,6):\n        if (((column == 1 or column == 5) and row!=0) or((row ==0 or row ==3) and (column >1 and column < 5))):\n            A=A+\"*\"\n        else:\n            A=A+\" \"\n    A=A+\"\\n\"\nprint(A);\n\nresult_str=\"\";    \nfor row in range(0,8):    \n    for column in range(0,7):     \nif (column == 1 or ((row == 0 or row == 6) and (column > 1 and column < 5)) or (column == 5 and row != 0 and row != 6)):\n    result_str = result_str+\"*\"\"\n      \n        else:      \n            result_str=result_str+\" \"    \n    result_str=result_str+\"\\n\"    \nprint(result_str);",
      "execution_count": 125,
      "outputs": [
        {
          "output_type": "error",
          "ename": "IndentationError",
          "evalue": "expected an indented block (<ipython-input-125-2f7d750acbc2>, line 15)",
          "traceback": [
            "\u001b[0;36m  File \u001b[0;32m\"<ipython-input-125-2f7d750acbc2>\"\u001b[0;36m, line \u001b[0;32m15\u001b[0m\n\u001b[0;31m    if (column == 1 or ((row == 0 or row == 6) and (column > 1 and column < 5)) or (column == 5 and row != 0 and row != 6)):\u001b[0m\n\u001b[0m                                                                                                                            ^\u001b[0m\n\u001b[0;31mIndentationError\u001b[0m\u001b[0;31m:\u001b[0m expected an indented block\n"
          ]
        }
      ]
    },
    {
      "metadata": {
        "trusted": true
      },
      "cell_type": "code",
      "source": "",
      "execution_count": null,
      "outputs": []
    },
    {
      "metadata": {
        "trusted": true
      },
      "cell_type": "code",
      "source": "",
      "execution_count": null,
      "outputs": []
    }
  ],
  "metadata": {
    "kernelspec": {
      "name": "python36",
      "display_name": "Python 3.6",
      "language": "python"
    }
  },
  "nbformat": 4,
  "nbformat_minor": 2
}