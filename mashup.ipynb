{
  "cells": [
    {
      "metadata": {
        "trusted": true
      },
      "cell_type": "code",
      "source": "from demos import bisection_iter, analyze_func, generate_emails\n\n# Add domains to list below for additional email extensions\nlist_of_domains = ['yaexample.com','goexample.com','example.com']\n\n# Generate emails\nemails = generate_emails(10,list_of_domains,1000000)\n\n# Test email to add to list of emails, followed by append to list\nemail = 'mashrur@example.com'\nemails.append(email)\n\n# Sort list of generated emails\nsorted_emails = sorted(emails)\n\n# Run bisection search to find test email in sorted list of emails\nindex, found = bisection_iter(email, sorted_emails)\n\n# Print result from function\nprint(found)\n\n# Print index returned by function used on the list of sorted emails\nif index:   print(f\"element at index: {index} is {sorted_emails[index]}\")\n\n# Run analysis of functions\nanalyze_func(bisection_iter, email, sorted_emails)\nanalyze_func(generate_emails, 10, list_of_domains, 1000000)\n\n",
      "execution_count": 1,
      "outputs": [
        {
          "output_type": "error",
          "ename": "ModuleNotFoundError",
          "evalue": "No module named 'demos'",
          "traceback": [
            "\u001b[0;31m---------------------------------------------------------------------------\u001b[0m",
            "\u001b[0;31mModuleNotFoundError\u001b[0m                       Traceback (most recent call last)",
            "\u001b[0;32m<ipython-input-1-5bb45ceb97c4>\u001b[0m in \u001b[0;36m<module>\u001b[0;34m\u001b[0m\n\u001b[0;32m----> 1\u001b[0;31m \u001b[0;32mfrom\u001b[0m \u001b[0mdemos\u001b[0m \u001b[0;32mimport\u001b[0m \u001b[0mbisection_iter\u001b[0m\u001b[0;34m,\u001b[0m \u001b[0manalyze_func\u001b[0m\u001b[0;34m,\u001b[0m \u001b[0mgenerate_emails\u001b[0m\u001b[0;34m\u001b[0m\u001b[0m\n\u001b[0m\u001b[1;32m      2\u001b[0m \u001b[0;34m\u001b[0m\u001b[0m\n\u001b[1;32m      3\u001b[0m \u001b[0;31m# Add domains to list below for additional email extensions\u001b[0m\u001b[0;34m\u001b[0m\u001b[0;34m\u001b[0m\u001b[0m\n\u001b[1;32m      4\u001b[0m \u001b[0mlist_of_domains\u001b[0m \u001b[0;34m=\u001b[0m \u001b[0;34m[\u001b[0m\u001b[0;34m'yaexample.com'\u001b[0m\u001b[0;34m,\u001b[0m\u001b[0;34m'goexample.com'\u001b[0m\u001b[0;34m,\u001b[0m\u001b[0;34m'example.com'\u001b[0m\u001b[0;34m]\u001b[0m\u001b[0;34m\u001b[0m\u001b[0m\n\u001b[1;32m      5\u001b[0m \u001b[0;34m\u001b[0m\u001b[0m\n",
            "\u001b[0;31mModuleNotFoundError\u001b[0m: No module named 'demos'"
          ]
        }
      ]
    },
    {
      "metadata": {
        "trusted": true
      },
      "cell_type": "code",
      "source": "class AlgoHashTable:\n\n    def __init__(self, size):\n        self.size = size\n        self.hash_table = self.create_buckets()\n\n    def create_buckets(self):\n        return [[] for _ in range(self.size)]\n\n    def set_val(self, key, value):\n        hashed_key = hash(key)% self.size\n        bucket = self.hash_table[hashed_key]\n        found_key = False\n        for index, record in enumerate(bucket):\n            record_key, record_value = record\n            if record_key == key:\n                found_key = True\n                break\n        if found_key:\n            bucket[index] = (key, value)\n        else:\n            bucket.append((key, value))\n    \n        \n\n    def get_val(self, key):\n        hashed_key = hash(key)% self.size\n        bucket = self.hash_table[hashed_key]\n        found_key = False\n        for index, record in enumerate(bucket):\n            record_key, record_value = record\n            if record_key == key:\n                found_key = True\n                break\n        if found_key:\n            return record_value\n        else:\n            return \"No record found with that email adress\"\n\n\n    def __str__(self):\n        return \"\".join(str(item) for item in self.hash_table)\n\nhash_table = AlgoHashTable(256)\nhash_table.set_val(\"sdfsdfasdf@exmaple.com\", 'sdfsdfsdfsdf')\nhash_table.set_val(\"aldaquioag@example.com\", 'some value')\nhash_table.set_val(\"masmdfsdf@example.com\", \"some value\")\nprint(hash_table)\nhash_table.set_val(\"aldaquioag@example.com\", 'i love python')\nprint(hash_table)\nhash_table.get_val(\"aldaquioag@example.com\")\nprint(hash_table.get_val(\"aldaquioag@example.com\"))",
      "execution_count": 31,
      "outputs": [
        {
          "output_type": "stream",
          "text": "[][][('aldaquioag@example.com', 'some value')][][][][][][][][][][][][][][][][][][][][][][][][][][][][][][][][][][][][][][][][][][][][][][][][][][][][][][][][][][][][][][][][][][][][][][][][][('masmdfsdf@example.com', 'some value')][][][][][][][][][][][][][][][][][][][][][][][][][][][][][][][][][][][][][][][][('sdfsdfasdf@exmaple.com', 'sdfsdfsdfsdf')][][][][][][][][][][][][][][][][][][][][][][][][][][][][][][][][][][][][][][][][][][][][][][][][][][][][][][][][][][][][][][][][][][][][][][][][][][][][][][][][][][][][][][][][][][][][][][][][][][][][][][][][][][][][][][][][][][][][][][][][][][][][][][][][][][][][][][][][][][][][]\n[][][('aldaquioag@example.com', 'i love python')][][][][][][][][][][][][][][][][][][][][][][][][][][][][][][][][][][][][][][][][][][][][][][][][][][][][][][][][][][][][][][][][][][][][][][][][][('masmdfsdf@example.com', 'some value')][][][][][][][][][][][][][][][][][][][][][][][][][][][][][][][][][][][][][][][][('sdfsdfasdf@exmaple.com', 'sdfsdfsdfsdf')][][][][][][][][][][][][][][][][][][][][][][][][][][][][][][][][][][][][][][][][][][][][][][][][][][][][][][][][][][][][][][][][][][][][][][][][][][][][][][][][][][][][][][][][][][][][][][][][][][][][][][][][][][][][][][][][][][][][][][][][][][][][][][][][][][][][][][][][][][][][]\ni love python\n",
          "name": "stdout"
        }
      ]
    },
    {
      "metadata": {
        "trusted": true
      },
      "cell_type": "code",
      "source": "\nemaill = 'mashur@example.com'\nhash(emaill)%256",
      "execution_count": 6,
      "outputs": [
        {
          "output_type": "execute_result",
          "execution_count": 6,
          "data": {
            "text/plain": "82"
          },
          "metadata": {}
        }
      ]
    },
    {
      "metadata": {
        "trusted": true
      },
      "cell_type": "code",
      "source": "records = [('masure@example.com','hellow world'),\n          ('johndow@example.com', 'hello to you too'),\n          ('jandoe@example.com', 'python is awesome')\n          ]\n\nfor index, record in enumerate(records):\n    key, value = record\n    if key == 'johndow@example.com':\n        break\n    \n\nprint(records[index])",
      "execution_count": 20,
      "outputs": [
        {
          "output_type": "stream",
          "text": "('johndow@example.com', 'hello to you too')\n",
          "name": "stdout"
        }
      ]
    },
    {
      "metadata": {
        "trusted": true
      },
      "cell_type": "code",
      "source": "from random import choice\nfrom string import ascii_lowercase as letters\n\nlist_of_domains = ['yaexample.com','goexample.com','example.com']\n\nquotes = [  'Luck is what happens when preparation meets opportunity',\n            'All cruelty springs from weakness',\n            'Begin at once to live, and count each separate day as a separate life',\n            'Throw me to the wolves and I will return leading the pack']\n\ndef generate_name(length_of_name):\n    return ''.join(choice(letters) for i in range(length_of_name))\n\ndef get_domain(list_of_domains):\n    return choice(list_of_domains)\n\ndef get_quotes(list_of_quotes):\n    return choice(list_of_quotes)\n\ndef generate_records(length_of_name, list_of_domains, total_records, list_of_quotes):\n    with open(\"data.txt\", \"w\") as to_write:\n        for num in range(total_records):\n            key = generate_name(length_of_name)+\"@\"+get_domain(list_of_domains)\n            value = get_quotes(quotes)\n            to_write.write(key + \":\" + value + \"\\n\")\n        to_write.write(\"mashrur@example.com:Don't let me leave Murph\\n\")\n        to_write.write(\"evgeny@example.com:All I do is win win win no matter what!\\n\")\n\ngenerate_records(10, list_of_domains, 100000, quotes)",
      "execution_count": 1,
      "outputs": []
    },
    {
      "metadata": {
        "trusted": true
      },
      "cell_type": "code",
      "source": "",
      "execution_count": null,
      "outputs": []
    },
    {
      "metadata": {
        "trusted": true
      },
      "cell_type": "code",
      "source": "class AlgoHashTable:\n\n    def __init__(self, size):\n        self.size = size\n        self.hash_table = [[] for _ in range(self.size)]\n\n    def create_buckets(self):\n        pass\n\n    def set_val(self, key, value):\n        pass\n\n    def get_val(self, key):\n        pass\n\n    def __str__(self):\n        return \"\".join(str(item) for item in self.hash_table)\n    \n\nhash_table = AlgoHashTable(256)\nprint(hash_table)    ",
      "execution_count": 6,
      "outputs": [
        {
          "output_type": "stream",
          "text": "[][][][][][][][][][][][][][][][][][][][][][][][][][][][][][][][][][][][][][][][][][][][][][][][][][][][][][][][][][][][][][][][][][][][][][][][][][][][][][][][][][][][][][][][][][][][][][][][][][][][][][][][][][][][][][][][][][][][][][][][][][][][][][][][][][][][][][][][][][][][][][][][][][][][][][][][][][][][][][][][][][][][][][][][][][][][][][][][][][][][][][][][][][][][][][][][][][][][][][][][][][][][][][][][][][][][][][][][][][][][][][][][][][][][][][][][][][][][][][][][][][][][][][][][][][][][][][][][]\n",
          "name": "stdout"
        }
      ]
    },
    {
      "metadata": {
        "trusted": true
      },
      "cell_type": "code",
      "source": "class AlgoHashTable:\n\n    def __init__(self, size):\n        self.size = size\n        self.hash_table = self.create_buckets()\n\n    def create_buckets(self):\n        return [[] for _ in range(self.size)]\n\n    def set_val(self, key, value):\n        hashed_key = 10 # hash(key)%self.size\n        bucket = self.hash_table[hashed_key]\n        found_key = False\n        for index, record in enumerate(bucket):\n            record_key, record_value = record\n            if record_key == key:\n                found_key = True\n                break\n        if found_key:\n            bucket[index] = (key, value)\n        else:\n            bucket.append((key, value))\n\n    def get_val(self, key):\n        pass\n\n    def __str__(self):\n        return \"\".join(str(item) for item in self.hash_table)\n\nhash_table = AlgoHashTable(256)\nhash_table.set_val('mashrur@example.com','some value')\nhash_table.set_val('evgeny@example.com','some other value')\nprint(hash_table)\nhash_table.set_val('mashrsur@example.com', 'I love Python')\nprint(hash_table)",
      "execution_count": 12,
      "outputs": [
        {
          "output_type": "stream",
          "text": "[][][][][][][][][][][('mashrur@example.com', 'some value'), ('evgeny@example.com', 'some other value')][][][][][][][][][][][][][][][][][][][][][][][][][][][][][][][][][][][][][][][][][][][][][][][][][][][][][][][][][][][][][][][][][][][][][][][][][][][][][][][][][][][][][][][][][][][][][][][][][][][][][][][][][][][][][][][][][][][][][][][][][][][][][][][][][][][][][][][][][][][][][][][][][][][][][][][][][][][][][][][][][][][][][][][][][][][][][][][][][][][][][][][][][][][][][][][][][][][][][][][][][][][][][][][][][][][][][][][][][][][][][][][][][][][][][][][][][][][][][][][][][][][][][]\n[][][][][][][][][][][('mashrur@example.com', 'some value'), ('evgeny@example.com', 'some other value'), ('mashrsur@example.com', 'I love Python')][][][][][][][][][][][][][][][][][][][][][][][][][][][][][][][][][][][][][][][][][][][][][][][][][][][][][][][][][][][][][][][][][][][][][][][][][][][][][][][][][][][][][][][][][][][][][][][][][][][][][][][][][][][][][][][][][][][][][][][][][][][][][][][][][][][][][][][][][][][][][][][][][][][][][][][][][][][][][][][][][][][][][][][][][][][][][][][][][][][][][][][][][][][][][][][][][][][][][][][][][][][][][][][][][][][][][][][][][][][][][][][][][][][][][][][][][][][][][][][][][][][][][]\n",
          "name": "stdout"
        }
      ]
    },
    {
      "metadata": {
        "trusted": true
      },
      "cell_type": "code",
      "source": "class Node:\n    def __init__(self, key):\n        self.data = key\n        self.left_child = None\n        self.right_child = None\n    \nclass BSTDemo:\n    def __init__(self):\n        self.root = None\n    \n    def insert(self, key):\n        if not isinstance(key, Node):\n            key = Node(key)\n        if self.root == None:\n            self.root = key\n        else:\n            self._insert(self.root, key)\n            \n    \n    \n    def _insert(self, curr, key):\n        if key.data > curr.data:\n            if curr.right_child == None:\n                curr.right_child = key\n            else:\n                    self._insert(curr.right_child, key)\n        elif key.data < curr.data:\n            if curr.left_child == None:\n                curr.left_child = key\n            else:\n                self._insert(curr.left_child, key)\n                \n    \n    \n    def in_order(self):\n        # left root right\n        self.in_order(self.root)\n    \n    def _in_order(self, curr):\n        if curr:\n            self._in_order(curr.left_child)\n            print(curr.data, end =\" \")\n            self._in_order(curr.right_child)\n            \n    \n    def pre_order(self):\n        pass\n    \n    \n    \ntree = BSTDemo()\n\ntree.insert(\"F\")\nprint(tree.root.data)\ntree.insert(\"C\")\nprint(tree.root.left_child.data)\ntree.insert(\"G\")\nprint(tree.root.right_child.data)\ntree.insert(\"A\")\nprint(tree.root.left_child.left_child.data)\ntree.insert(\"B\")\nprint(tree.root.left_child.left_child.right_child.data)\ntree.insert(\"K\")\nprint(tree.root.right_child.right_child.data)\ntree.insert(\"H\")\nprint(tree.root.right_child.right_child.left_child.data)\ntree.insert(\"E\")\ntree.insert(\"D\")\ntree.insert(\"I\")    \ntree.insert(\"M\")    \ntree.insert(\"J\")    \ntree.insert(\"L\")    \n\n    \n    \ntree.insert(\"F\")\n\ntree.insert(\"C\")\n\ntree.insert(\"G\")\ntree.insert(\"A\")\ntree.insert(\"B\")\ntree.insert(\"K\")\ntree.insert(\"H\")\ntree.insert(\"E\")\ntree.insert(\"D\")\ntree.insert(\"I\")    \ntree.insert(\"M\")    \ntree.insert(\"J\")    \ntree.insert(\"L\")    \ntree.in_order()\n    \n    \n    \n    \nclass Node:\n    def __init__(self, key):\n        self.data = key\n        self.left_child = None\n        self.right_child = None\n\nclass BSTDemo:\n    def __init__(self):\n        self.root = None\n\n    def insert(self, key):\n        if not isinstance(key, Node):\n            key = Node(key)\n        if self.root == None:\n            self.root = key\n        else:\n            self._insert(self.root, key)\n\n    def _insert(self, curr, key):\n        if key.data > curr.data:\n            if curr.right_child == None:\n                curr.right_child = key\n            else:\n                self._insert(curr.right_child, key)\n        elif key.data < curr.data:\n            if curr.left_child == None:\n                curr.left_child = key\n            else:\n                self._insert(curr.left_child, key)\n\n    def in_order(self):\n        self._in_order(self.root)\n        print(\"\")\n\n    def _in_order(self, curr):\n        if curr:\n            self._in_order(curr.left_child)\n            print(curr.data, end=\" \")\n            self._in_order(curr.right_child)\n\n    def pre_order(self):\n        self._pre_order(self.root)\n        print(\"\")\n\n    def _pre_order(self, curr):\n        if curr:\n            print(curr.data, end=\" \")\n            self._pre_order(curr.left_child)\n            self._pre_order(curr.right_child)\n\n    def post_order(self):\n        self._post_order(self.root)\n        print(\"\")\n\n    def _post_order(self, curr):\n        if curr:\n            self._post_order(curr.left_child)\n            self._post_order(curr.right_child)\n            print(curr.data, end=\" \")\n\n    def find_val(self, key):\n        pass\n\n    def _find_val(self, curr, key):\n        pass\n\n    def delete_val(self, key):\n        pass\n\n    def _delete_val(self, curr, prev, is_left, key):\n        pass\n\ntree = BSTDemo()\ntree.insert(\"H\")\ntree.insert(\"D\")\ntree.insert(\"I\")\ntree.insert(\"M\")\ntree.insert(\"J\")\ntree.insert(\"L\")\ntree.insert(\"F\")\ntree.insert(\"C\")\ntree.insert(\"G\")\ntree.insert(\"A\")\ntree.insert(\"B\")\ntree.insert(\"K\")\ntree.insert(\"E\")\ntree.in_order()\ntree.pre_order()\ntree.post_order() \n    \n    \n    \n    \n    \n    \n",
      "execution_count": 24,
      "outputs": [
        {
          "output_type": "stream",
          "text": "F\nC\nG\nA\nB\nK\nH\n",
          "name": "stdout"
        },
        {
          "output_type": "error",
          "ename": "TypeError",
          "evalue": "in_order() takes 1 positional argument but 2 were given",
          "traceback": [
            "\u001b[0;31m---------------------------------------------------------------------------\u001b[0m",
            "\u001b[0;31mTypeError\u001b[0m                                 Traceback (most recent call last)",
            "\u001b[0;32m<ipython-input-24-fbbc32e6378b>\u001b[0m in \u001b[0;36m<module>\u001b[0;34m\u001b[0m\n\u001b[1;32m     89\u001b[0m \u001b[0mtree\u001b[0m\u001b[0;34m.\u001b[0m\u001b[0minsert\u001b[0m\u001b[0;34m(\u001b[0m\u001b[0;34m\"J\"\u001b[0m\u001b[0;34m)\u001b[0m\u001b[0;34m\u001b[0m\u001b[0m\n\u001b[1;32m     90\u001b[0m \u001b[0mtree\u001b[0m\u001b[0;34m.\u001b[0m\u001b[0minsert\u001b[0m\u001b[0;34m(\u001b[0m\u001b[0;34m\"L\"\u001b[0m\u001b[0;34m)\u001b[0m\u001b[0;34m\u001b[0m\u001b[0m\n\u001b[0;32m---> 91\u001b[0;31m \u001b[0mtree\u001b[0m\u001b[0;34m.\u001b[0m\u001b[0min_order\u001b[0m\u001b[0;34m(\u001b[0m\u001b[0;34m)\u001b[0m\u001b[0;34m\u001b[0m\u001b[0m\n\u001b[0m\u001b[1;32m     92\u001b[0m \u001b[0;34m\u001b[0m\u001b[0m\n\u001b[1;32m     93\u001b[0m \u001b[0;34m\u001b[0m\u001b[0m\n",
            "\u001b[0;32m<ipython-input-24-fbbc32e6378b>\u001b[0m in \u001b[0;36min_order\u001b[0;34m(self)\u001b[0m\n\u001b[1;32m     35\u001b[0m     \u001b[0;32mdef\u001b[0m \u001b[0min_order\u001b[0m\u001b[0;34m(\u001b[0m\u001b[0mself\u001b[0m\u001b[0;34m)\u001b[0m\u001b[0;34m:\u001b[0m\u001b[0;34m\u001b[0m\u001b[0m\n\u001b[1;32m     36\u001b[0m         \u001b[0;31m# left root right\u001b[0m\u001b[0;34m\u001b[0m\u001b[0;34m\u001b[0m\u001b[0m\n\u001b[0;32m---> 37\u001b[0;31m         \u001b[0mself\u001b[0m\u001b[0;34m.\u001b[0m\u001b[0min_order\u001b[0m\u001b[0;34m(\u001b[0m\u001b[0mself\u001b[0m\u001b[0;34m.\u001b[0m\u001b[0mroot\u001b[0m\u001b[0;34m)\u001b[0m\u001b[0;34m\u001b[0m\u001b[0m\n\u001b[0m\u001b[1;32m     38\u001b[0m \u001b[0;34m\u001b[0m\u001b[0m\n\u001b[1;32m     39\u001b[0m     \u001b[0;32mdef\u001b[0m \u001b[0m_in_order\u001b[0m\u001b[0;34m(\u001b[0m\u001b[0mself\u001b[0m\u001b[0;34m,\u001b[0m \u001b[0mcurr\u001b[0m\u001b[0;34m)\u001b[0m\u001b[0;34m:\u001b[0m\u001b[0;34m\u001b[0m\u001b[0m\n",
            "\u001b[0;31mTypeError\u001b[0m: in_order() takes 1 positional argument but 2 were given"
          ]
        }
      ]
    },
    {
      "metadata": {
        "trusted": true
      },
      "cell_type": "code",
      "source": "",
      "execution_count": null,
      "outputs": []
    }
  ],
  "metadata": {
    "kernelspec": {
      "name": "python36",
      "display_name": "Python 3.6",
      "language": "python"
    }
  },
  "nbformat": 4,
  "nbformat_minor": 2
}