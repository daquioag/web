{
  "cells": [
    {
      "metadata": {
        "trusted": true
      },
      "cell_type": "code",
      "source": "import time\nfrom random import choice\nfrom string import ascii_lowercase as letters\n\ndef bisection_iter(n, arr):\n    start = 0\n    stop = len(arr)-1\n    while start <= stop:\n        mid = (start + stop)//2\n        if n == arr[mid]:\n            return mid, f\"{n} found at index: {mid}\" # return tuple\n        elif n > arr[mid]:\n            start = mid + 1\n        else:\n            stop = mid - 1\n    return None, f\"{n} not found in list\"\n\ndef analyze_func(func_name, *args):\n    tic = time.time()\n    func_name(*args) # accept variable list of arguments\n    toc = time.time()\n    seconds = toc-tic\n    print(f\"{func_name.__name__.capitalize()}\\t-> Elapsed time: {seconds:.5f}\")\n\n###### functions to generate lists of random emails ######\ndef generate_name(length_of_name):\n    return ''.join(choice(letters) for i in range(length_of_name))\n\ndef get_domain(list_of_domains):\n    return choice(list_of_domains)\n\ndef generate_emails(length_of_name, list_of_domains, total_emails):\n    emails = []\n    for num in range(total_emails):\n        emails.append(generate_name(length_of_name)+\"@\"+get_domain(list_of_domains))\n    return emails\n\n",
      "execution_count": 1,
      "outputs": []
    },
    {
      "metadata": {
        "trusted": true
      },
      "cell_type": "code",
      "source": "print(generate_name(10))",
      "execution_count": 5,
      "outputs": [
        {
          "output_type": "stream",
          "text": "zhrgpawgvl\n",
          "name": "stdout"
        }
      ]
    },
    {
      "metadata": {
        "trusted": true
      },
      "cell_type": "code",
      "source": "",
      "execution_count": null,
      "outputs": []
    }
  ],
  "metadata": {
    "kernelspec": {
      "name": "python36",
      "display_name": "Python 3.6",
      "language": "python"
    },
    "language_info": {
      "mimetype": "text/x-python",
      "nbconvert_exporter": "python",
      "name": "python",
      "pygments_lexer": "ipython3",
      "version": "3.6.6",
      "file_extension": ".py",
      "codemirror_mode": {
        "version": 3,
        "name": "ipython"
      }
    }
  },
  "nbformat": 4,
  "nbformat_minor": 2
}